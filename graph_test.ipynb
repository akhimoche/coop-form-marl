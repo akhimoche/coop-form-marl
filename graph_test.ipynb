{
 "cells": [
  {
   "cell_type": "code",
   "execution_count": null,
   "metadata": {},
   "outputs": [],
   "source": [
    "import numpy as np\n",
    "import matplotlib.pyplot as plt"
   ]
  },
  {
   "cell_type": "code",
   "execution_count": null,
   "metadata": {},
   "outputs": [],
   "source": [
    "n = 20\n",
    "t = 10\n",
    "\n",
    "# load simulation results\n",
    "cum_rew_1 = np.load(f'data/base/n{n}t{t}_cum_rew_cnf0.npy')\n",
    "cum_rew_2 = np.load(f'data/base/n{n}t{t}_cum_rew_cnf0v2.npy')\n",
    "# average over the simulations\n",
    "cum_rew_1 = np.mean(cum_rew_1, axis=0)\n",
    "cum_rew_2 = np.mean(cum_rew_2, axis=0)\n",
    "# plot cum rew graphs\n",
    "plt.title(f'Cooperative game with strategic lying: n={n},t={t}')\n",
    "plt.xlabel('Timestep')\n",
    "plt.ylabel('Average System Cumulative Reward')\n",
    "\n",
    "plt.plot(cum_rew_1, label='base')\n",
    "plt.plot(cum_rew_2, label='base with critic higher lr')\n",
    "plt.legend()\n",
    "fig = plt.gcf()\n",
    "fig.set_size_inches(10.5, 10.5)"
   ]
  },
  {
   "cell_type": "code",
   "execution_count": null,
   "metadata": {},
   "outputs": [],
   "source": [
    "struct_1 = np.load(f'data/base/n{n}t{t}_cstruct_cnf0.npy')\n",
    "\n",
    "sets_list = [set([i+1 for i, val in enumerate(row) if val == 1]) for row in struct_1]\n",
    "print(sets_list)"
   ]
  }
 ],
 "metadata": {
  "kernelspec": {
   "display_name": "Python 3",
   "language": "python",
   "name": "python3"
  },
  "language_info": {
   "codemirror_mode": {
    "name": "ipython",
    "version": 3
   },
   "file_extension": ".py",
   "mimetype": "text/x-python",
   "name": "python",
   "nbconvert_exporter": "python",
   "pygments_lexer": "ipython3",
   "version": "3.10.4"
  }
 },
 "nbformat": 4,
 "nbformat_minor": 2
}

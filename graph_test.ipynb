{
 "cells": [
  {
   "cell_type": "code",
   "execution_count": null,
   "metadata": {},
   "outputs": [],
   "source": [
    "import matplotlib.pyplot as plt\n",
    "import numpy as np\n",
    "\n",
    "n = 30\n",
    "t = 18\n",
    "\n",
    "norm = np.load(f'data/n{n}t{t}_state_rep_norm.npy')\n",
    "alt = np.load(f'data/n{n}t{t}_state_rep_alt.npy')\n",
    "\n",
    "norm = np.mean(norm, axis=0)\n",
    "alt = np.mean(alt, axis=0)\n",
    "\n",
    "plt.title(f'Comparison of state representations for cooperative game with strategic lying: n={n},t={t}')\n",
    "plt.xlabel('timestep')\n",
    "plt.ylabel('average system cumulative reward')\n",
    "plt.plot(norm, label='norm (coalition only)')\n",
    "plt.plot(alt, label='alt (coalition+task)')\n",
    "fig = plt.gcf()\n",
    "fig.set_size_inches(10.5, 10.5)\n",
    "\n",
    "plt.legend()"
   ]
  }
 ],
 "metadata": {
  "kernelspec": {
   "display_name": "Python 3",
   "language": "python",
   "name": "python3"
  },
  "language_info": {
   "codemirror_mode": {
    "name": "ipython",
    "version": 3
   },
   "file_extension": ".py",
   "mimetype": "text/x-python",
   "name": "python",
   "nbconvert_exporter": "python",
   "pygments_lexer": "ipython3",
   "version": "3.10.4"
  }
 },
 "nbformat": 4,
 "nbformat_minor": 2
}

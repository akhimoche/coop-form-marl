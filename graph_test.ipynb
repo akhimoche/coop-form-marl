{
 "cells": [
  {
   "cell_type": "code",
   "execution_count": null,
   "metadata": {},
   "outputs": [],
   "source": [
    "import matplotlib.pyplot as plt\n",
    "import numpy as np\n",
    "\n",
    "# set parameters\n",
    "n = 10\n",
    "t = 5\n",
    "\n",
    "# load simulation results\n",
    "cum_rew_1 = np.load(f'data/base_comm/n{n}t{t}_cum_rew_bc.npy')\n",
    "cum_rew_2 = np.load(f'data/base/n{n}t{t}_cum_rew_cnf0.npy')\n",
    "\n",
    "# average over the simulations\n",
    "cum_rew_1 = np.mean(cum_rew_1, axis=0)\n",
    "cum_rew_2= np.mean(cum_rew_2, axis=0)\n",
    "\n",
    "# plot cum rew graphs\n",
    "plt.title(f'Cooperative game with strategic lying: n={n},t={t}')\n",
    "plt.xlabel('Timestep')\n",
    "plt.ylabel('Average System Cumulative Reward')\n",
    "\n",
    "plt.plot(cum_rew_1, label='base+comm')\n",
    "plt.plot(cum_rew_2, label='base')\n",
    "\n",
    "fig = plt.gcf()\n",
    "fig.set_size_inches(10.5, 10.5)\n",
    "\n",
    "plt.legend()\n",
    "plt.grid(True, linestyle='--', alpha=0.7)\n"
   ]
  },
  {
   "cell_type": "code",
   "execution_count": null,
   "metadata": {},
   "outputs": [],
   "source": [
    "actions_1 = np.load(f'data/base_comm/n{n}t{t}_actions_bc.npy')\n",
    "\n",
    "def moving_average(arr, window_size):\n",
    "    moving_averages = []\n",
    "    for i in range(len(arr) - window_size + 1):\n",
    "        window = arr[i:i + window_size]\n",
    "        average = sum(window) / window_size\n",
    "        moving_averages.append(average)\n",
    "    return moving_averages\n",
    "\n",
    "for i in range(n):\n",
    "    plt.plot(moving_average(actions_1[:,i], 20))\n",
    "\n",
    "fig = plt.gcf()\n",
    "plt.grid(True, linestyle='--', alpha=0.7)\n",
    "fig.set_size_inches(12, 12)"
   ]
  },
  {
   "cell_type": "code",
   "execution_count": null,
   "metadata": {},
   "outputs": [],
   "source": [
    "struct_1 = np.load(f'data/base/n{n}t{t}_cstruct_cnf0.npy')\n",
    "\n",
    "sets_list = [set([i+1 for i, val in enumerate(row) if val == 1]) for row in struct_1]\n",
    "print(sets_list)\n",
    "\n"
   ]
  },
  {
   "cell_type": "code",
   "execution_count": null,
   "metadata": {},
   "outputs": [],
   "source": [
    "# comparing multiple runs\n",
    "\n",
    "for i in range(5):\n",
    "    cum_rew_1 = np.load(f'data/base_comm/n{n}t{t}_cum_rew_bc.npy')\n",
    "    arr = cum_rew_1[i,:]\n",
    "    plt.plot(arr)\n",
    "\n",
    "plt.grid(True, linestyle='--', alpha=0.7)\n",
    "plt.xlabel('Timestep', fontsize=25)\n",
    "plt.ylabel('Cumulative Average System Reward', fontsize=25)\n",
    "plt.xticks(fontsize=25)\n",
    "plt.yticks(fontsize=25)\n",
    "fig = plt.gcf()\n",
    "fig.set_size_inches(12, 12)\n",
    "plt.savefig(\"n10t5solutionscomparison.png\")"
   ]
  }
 ],
 "metadata": {
  "kernelspec": {
   "display_name": "Python 3",
   "language": "python",
   "name": "python3"
  },
  "language_info": {
   "codemirror_mode": {
    "name": "ipython",
    "version": 3
   },
   "file_extension": ".py",
   "mimetype": "text/x-python",
   "name": "python",
   "nbconvert_exporter": "python",
   "pygments_lexer": "ipython3",
   "version": "3.10.4"
  }
 },
 "nbformat": 4,
 "nbformat_minor": 2
}

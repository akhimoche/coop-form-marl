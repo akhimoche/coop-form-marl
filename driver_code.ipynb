{
 "cells": [
  {
   "cell_type": "code",
   "execution_count": null,
   "id": "2f99acde",
   "metadata": {},
   "outputs": [],
   "source": [
    "from Games.CoopEnv import CoopEnv\n",
    "import numpy as np\n",
    "import tensorflow as tf\n",
    "import tensorflow_probability as tfp\n",
    "import matplotlib.pyplot as plt"
   ]
  },
  {
   "cell_type": "code",
   "execution_count": null,
   "id": "759d86af",
   "metadata": {},
   "outputs": [],
   "source": [
    "n = 5\n",
    "tasks = 3\n",
    "cnf = 0.1\n",
    "env = CoopEnv(n=n, task_num=tasks, cnf=cnf)\n",
    "action_size = env.num_of_tasks"
   ]
  },
  {
   "cell_type": "code",
   "execution_count": null,
   "id": "9688ebc9",
   "metadata": {},
   "outputs": [],
   "source": [
    "class ActorNetwork(tf.keras.Model):\n",
    "    \n",
    "    def __init__(self):\n",
    "        \n",
    "        super().__init__()\n",
    "        # Shared layers for policy and value function networks\n",
    "        self.layer1 = tf.keras.layers.Dense(256, activation = 'relu')\n",
    "        self.layer2 = tf.keras.layers.Dense(256, activation = 'relu')\n",
    "        self.pout = tf.keras.layers.Dense(action_size, activation = 'softmax') # state to action probabilities \n",
    "        \n",
    "    def call(self, state):\n",
    "        \n",
    "        x = tf.convert_to_tensor(state)\n",
    "        x = self.layer1(x)\n",
    "        x = self.layer2(x)\n",
    "        probs = self.pout(x)\n",
    "        \n",
    "        return probs"
   ]
  },
  {
   "cell_type": "code",
   "execution_count": null,
   "id": "74fcf222",
   "metadata": {},
   "outputs": [],
   "source": [
    "class CriticNetwork(tf.keras.Model):\n",
    "    \n",
    "    def __init__(self):\n",
    "        \n",
    "        super().__init__()\n",
    "        # Shared layers for policy and value function networks\n",
    "        self.layer1 = tf.keras.layers.Dense(256, activation = 'relu')\n",
    "        self.layer2 = tf.keras.layers.Dense(256, activation = 'relu')\n",
    "        self.vout = tf.keras.layers.Dense(1, activation = None) # ... from state to value scalar\n",
    "        \n",
    "    def call(self, state):\n",
    "        \n",
    "        x = tf.convert_to_tensor(state)\n",
    "        x = self.layer1(x)\n",
    "        x = self.layer2(x)\n",
    "        value = self.vout(x)\n",
    "        \n",
    "        return value\n"
   ]
  },
  {
   "cell_type": "code",
   "execution_count": null,
   "id": "595b8a68",
   "metadata": {},
   "outputs": [],
   "source": [
    "class Agent():\n",
    "    \n",
    "    def __init__(self):\n",
    "        self.aModel = ActorNetwork()\n",
    "        self.vModel = CriticNetwork()\n",
    "        self.gamma = 0.99\n",
    "        self.alr = 1e-4\n",
    "        self.clr = 1e-4\n",
    "        self.aopt = tf.keras.optimizers.Adam(learning_rate=self.alr)\n",
    "        self.copt = tf.keras.optimizers.Adam(learning_rate=self.clr)\n",
    "        \n",
    "    def choose_action(self, state):\n",
    "        a_probs = self.aModel(np.array([state]))\n",
    "        dist = tfp.distributions.Categorical(probs = a_probs, dtype=tf.float32)\n",
    "        action = dist.sample()\n",
    "        return int(action.numpy()[0])\n",
    "    \n",
    "    def calculate_loss(self, a_probs, action, delta):\n",
    "        dist = tfp.distributions.Categorical(probs = a_probs, dtype=tf.float32)\n",
    "        log_prob = dist.log_prob(action) # get log(pi(a\\s))\n",
    "        return -log_prob*delta\n",
    "    \n",
    "    def train(self, state, action, reward, next_state, terminated): # train from an episode of experience\n",
    "        \n",
    "        state = np.array([state])\n",
    "        next_state = np.array([next_state])\n",
    "        \n",
    "        with tf.GradientTape() as tape1, tf.GradientTape() as tape2:\n",
    "            \n",
    "            a =  self.aModel(state,training=True) # action probabilities and value of state S_t\n",
    "            v = self.vModel(state, training=True) # action probabilities and value of state S_t+1\n",
    "            v_p = self.vModel(next_state, training=True)\n",
    "            td = reward + self.gamma*v_p - v # calculate TD error\n",
    "            \n",
    "            a_update = self.calculate_loss(a, action, td)\n",
    "            c_update = td**2\n",
    "        \n",
    "        grads1 = tape1.gradient(a_update, self.aModel.trainable_variables)\n",
    "        grads2 = tape2.gradient(c_update, self.vModel.trainable_variables)\n",
    "        self.aopt.apply_gradients(zip(grads1, self.aModel.trainable_variables))\n",
    "        self.copt.apply_gradients(zip(grads2, self.vModel.trainable_variables))\n",
    "        \n",
    "        return a_update, c_update\n"
   ]
  },
  {
   "cell_type": "code",
   "execution_count": null,
   "id": "8a624f28",
   "metadata": {},
   "outputs": [],
   "source": [
    "num_of_sims = 1\n",
    "step_limit = 10\n",
    "steps_to_complete = np.zeros((num_of_sims, step_limit+1))"
   ]
  },
  {
   "cell_type": "code",
   "execution_count": null,
   "id": "99681c90",
   "metadata": {},
   "outputs": [],
   "source": [
    "def main():\n",
    "    \n",
    "    for s in range(num_of_sims):\n",
    "        \n",
    "        print(\"----------------------------------\")\n",
    "        print(f\"Starting training simulation {s}:\")\n",
    "        print(\"----------------------------------\")\n",
    "        \n",
    "        # reinitialise agent list each sim\n",
    "        agentlist = {}\n",
    "        for agent in range(env.n):\n",
    "            agentlist[agent] = Agent() # instantiate an Agent() class for each player\n",
    "         \n",
    "        t = 0\n",
    "        observations = env.reset(n=n, task_num=tasks, cnf=cnf)\n",
    "        \n",
    "        while t < step_limit:\n",
    "            print(t, end='\\r')\n",
    "\n",
    "            actions = [agentlist[agent].choose_action(observations[agent]) for agent in range(env.n)]\n",
    "\n",
    "            next_observations, rewards, termination, info = env.step(actions)\n",
    "            \n",
    "            for i in agentlist:\n",
    "                agent = agentlist[i]\n",
    "                agent.train(observations[i], actions[i], rewards[i], next_observations[i], termination)\n",
    "\n",
    "            observations = next_observations\n",
    "            steps_to_complete[s, t+1] = sum(rewards) + steps_to_complete[s, t]\n",
    "            t +=1\n",
    "\n",
    "            \n"
   ]
  },
  {
   "cell_type": "code",
   "execution_count": null,
   "id": "673145b4",
   "metadata": {},
   "outputs": [],
   "source": [
    "if __name__ == \"__main__\":\n",
    "    \n",
    "    #cProfile.run('main()')\n",
    "    main()\n"
   ]
  },
  {
   "cell_type": "code",
   "execution_count": null,
   "id": "a79aad28",
   "metadata": {},
   "outputs": [],
   "source": [
    "b = np.mean(steps_to_complete, axis=0)\n",
    "print(sum(steps_to_complete))\n",
    "plt.xlabel('Number of Steps Played')\n",
    "plt.ylabel('Cumulative Reward')\n",
    "plt.title(f'Training graph for IAC on cooperative game; n={n}, tasks={tasks}')\n",
    "fig = plt.gcf()\n",
    "fig.set_size_inches(10.5, 10.5)\n",
    "plt.plot(b)"
   ]
  },
  {
   "cell_type": "code",
   "execution_count": null,
   "id": "5038c7e7",
   "metadata": {},
   "outputs": [],
   "source": []
  }
 ],
 "metadata": {
  "kernelspec": {
   "display_name": "Python 3 (ipykernel)",
   "language": "python",
   "name": "python3"
  },
  "language_info": {
   "codemirror_mode": {
    "name": "ipython",
    "version": 3
   },
   "file_extension": ".py",
   "mimetype": "text/x-python",
   "name": "python",
   "nbconvert_exporter": "python",
   "pygments_lexer": "ipython3",
   "version": "3.10.4"
  }
 },
 "nbformat": 4,
 "nbformat_minor": 5
}

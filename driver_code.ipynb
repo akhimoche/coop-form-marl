{
 "cells": [
  {
   "cell_type": "code",
   "execution_count": null,
   "id": "2f99acde",
   "metadata": {},
   "outputs": [],
   "source": [
    "from utils.CoopEnv import CoopEnv\n",
    "from utils.IACagent import Agent"
   ]
  },
  {
   "cell_type": "code",
   "execution_count": null,
   "id": "a4aa20a1",
   "metadata": {},
   "outputs": [],
   "source": [
    "import random\n",
    "import numpy as np\n",
    "import matplotlib.pyplot as plt"
   ]
  },
  {
   "cell_type": "code",
   "execution_count": null,
   "id": "759d86af",
   "metadata": {},
   "outputs": [],
   "source": [
    "# Set constant hyperparameters\n",
    "n = 10\n",
    "tasks = 5\n",
    "num_of_sims = 1\n",
    "step_limit = 5000"
   ]
  },
  {
   "cell_type": "code",
   "execution_count": null,
   "id": "8a624f28",
   "metadata": {},
   "outputs": [],
   "source": [
    "env = CoopEnv(n=n, tasks=tasks)\n",
    "steps_to_complete = np.zeros((num_of_sims, step_limit+1))\n",
    "comm_rec_actions = np.zeros((step_limit+1, env.n))\n",
    "action_size = env.tasks"
   ]
  },
  {
   "cell_type": "code",
   "execution_count": null,
   "id": "99681c90",
   "metadata": {},
   "outputs": [],
   "source": [
    "def main():\n",
    "\n",
    "    for s in range(num_of_sims):\n",
    "\n",
    "        print(\"----------------------------------\")\n",
    "        print(f\"Starting training simulation {s}:\")\n",
    "        print(\"----------------------------------\")\n",
    "\n",
    "        # reinitialise agent list each sim\n",
    "        agentlist = {i: Agent(action_size) for i in range(env.n)}\n",
    "        # reset the environment\n",
    "        observations = env.reset(n=n, tasks=tasks)\n",
    "\n",
    "        # begin training loop\n",
    "        t = 0\n",
    "        while t < step_limit:\n",
    "            print(t, end='\\r')\n",
    "\n",
    "            sys_actions = np.zeros((env.n, 2)) # column 0 for move actions and column 1 for comm actions\n",
    "            # collect move and comm  action for each agent\n",
    "            sys_actions = np.array([agentlist[i].choose_action(observations[i]) for i in range(env.n)])\n",
    "            next_observations, rewards, termination, info = env.step(sys_actions) # env.step\n",
    "            comm_rec_actions[t] = sys_actions[:,1] # output from actor (comm head)\n",
    "\n",
    "            for i in range(env.n): # train each agent\n",
    "                agentlist[i].train(observations[i], sys_actions[i, :], rewards[i], next_observations[i])\n",
    "\n",
    "            # advance state\n",
    "            observations = next_observations\n",
    "            # record average system reward score\n",
    "            steps_to_complete[s, t+1] = (sum(rewards)/env.n) + steps_to_complete[s, t]\n",
    "\n",
    "            # increment timestep and loop\n",
    "            t +=1\n",
    "\n",
    "\n"
   ]
  },
  {
   "cell_type": "code",
   "execution_count": null,
   "id": "673145b4",
   "metadata": {},
   "outputs": [],
   "source": [
    "if __name__ == \"__main__\":\n",
    "\n",
    "    #cProfile.run('main()')\n",
    "    main()\n"
   ]
  },
  {
   "cell_type": "code",
   "execution_count": null,
   "id": "a79aad28",
   "metadata": {},
   "outputs": [],
   "source": [
    "b = np.mean(steps_to_complete, axis=0)\n",
    "s_dev = np.std(steps_to_complete, axis=0)\n",
    "plt.xlabel('Number of Steps Played')\n",
    "plt.ylabel('Cumulative Reward')\n",
    "plt.title(f'Training graph for IAC on cooperative game; n={n}, tasks={tasks}')\n",
    "fig = plt.gcf()\n",
    "fig.set_size_inches(10.5, 10.5)\n",
    "plt.plot(b)"
   ]
  },
  {
   "cell_type": "code",
   "execution_count": null,
   "id": "a9e8ee39",
   "metadata": {},
   "outputs": [],
   "source": [
    "plt.xlabel('Number of Steps Played')\n",
    "plt.ylabel('comm bias')\n",
    "plt.title(f'Training graph for comm actions')\n",
    "fig = plt.gcf()\n",
    "fig.set_size_inches(10.5, 10.5)\n",
    "plt.plot(comm_rec_actions)"
   ]
  },
  {
   "cell_type": "code",
   "execution_count": null,
   "id": "5038c7e7",
   "metadata": {},
   "outputs": [],
   "source": [
    "# Get coalition structure\n",
    "print(env.CS)\n"
   ]
  }
 ],
 "metadata": {
  "kernelspec": {
   "display_name": "Python 3 (ipykernel)",
   "language": "python",
   "name": "python3"
  },
  "language_info": {
   "codemirror_mode": {
    "name": "ipython",
    "version": 3
   },
   "file_extension": ".py",
   "mimetype": "text/x-python",
   "name": "python",
   "nbconvert_exporter": "python",
   "pygments_lexer": "ipython3",
   "version": "3.10.4"
  }
 },
 "nbformat": 4,
 "nbformat_minor": 5
}

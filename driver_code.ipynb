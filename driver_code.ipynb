{
 "cells": [
  {
   "cell_type": "code",
   "execution_count": null,
   "id": "2f99acde",
   "metadata": {},
   "outputs": [],
   "source": [
    "from utils.CoopEnv import CoopEnv\n",
    "from utils.IACagent import Agent"
   ]
  },
  {
   "cell_type": "code",
   "execution_count": null,
   "id": "a4aa20a1",
   "metadata": {},
   "outputs": [],
   "source": [
    "import random\n",
    "import numpy as np\n",
    "import matplotlib.pyplot as plt\n",
    "plt.style.use('ggplot')"
   ]
  },
  {
   "cell_type": "code",
   "execution_count": null,
   "id": "759d86af",
   "metadata": {},
   "outputs": [],
   "source": [
    "# Set constant hyperparameters\n",
    "n = 100\n",
    "num_of_tasks  = 50\n",
    "num_of_sims = 1\n",
    "step_limit = 10000"
   ]
  },
  {
   "cell_type": "code",
   "execution_count": null,
   "id": "8a624f28",
   "metadata": {},
   "outputs": [],
   "source": [
    "move_space = num_of_tasks\n",
    "\n",
    "lower_bound = -.99\n",
    "upper_bound = 2\n",
    "comm_array = np.arange(start=lower_bound, stop=upper_bound+0.01, step=0.01)\n",
    "\n",
    "comm_space = len(comm_array)\n",
    "print(comm_space)"
   ]
  },
  {
   "cell_type": "code",
   "execution_count": null,
   "metadata": {},
   "outputs": [],
   "source": [
    "env = CoopEnv(n=n, num_of_tasks=num_of_tasks)"
   ]
  },
  {
   "cell_type": "code",
   "execution_count": null,
   "metadata": {},
   "outputs": [],
   "source": [
    "steps_to_complete = np.zeros((num_of_sims, step_limit+1))\n",
    "comm_rec_actions = np.zeros((step_limit, env.n))\n",
    "move_rec_actions = np.zeros((step_limit, env.n))"
   ]
  },
  {
   "cell_type": "code",
   "execution_count": null,
   "id": "99681c90",
   "metadata": {},
   "outputs": [],
   "source": [
    "def main():\n",
    "\n",
    "    for s in range(num_of_sims):\n",
    "\n",
    "        print(\"----------------------------------\")\n",
    "        print(f\"Starting training simulation {s}:\")\n",
    "        print(\"----------------------------------\")\n",
    "\n",
    "        # reinitialise agent list each sim\n",
    "        agentlist = {i: Agent(move_space, comm_space) for i in range(env.n)}\n",
    "        # reset the environment\n",
    "        observations = env.reset(n=n, num_of_tasks =num_of_tasks )\n",
    "\n",
    "        # begin training loop\n",
    "        t = 0\n",
    "        while t < step_limit:\n",
    "            print(t, end='\\r')\n",
    "\n",
    "            sys_actions = np.zeros((env.n, 2)) # column 0 for move actions and column 1 for comm actions\n",
    "            # collect move and comm  action for each agent\n",
    "            sys_actions = np.array([agentlist[i].choose_action(observations[i]) for i in range(env.n)])\n",
    "\n",
    "            action_move = sys_actions[:,0]\n",
    "            action_comm = comm_array[sys_actions[:,1]]\n",
    "\n",
    "            next_observations, rewards, termination, info = env.step(action_move, action_comm) # env.step\n",
    "\n",
    "            comm_rec_actions[t] = action_comm  # output from actor (comm head)\n",
    "            move_rec_actions[t] = action_move\n",
    "\n",
    "            for i in range(env.n): # train each agent\n",
    "                agentlist[i].train(observations[i], sys_actions[i, :], rewards[i], next_observations[i])\n",
    "\n",
    "            # advance state\n",
    "            observations = next_observations\n",
    "            # record average system reward score\n",
    "            steps_to_complete[s, t+1] = (sum(rewards)/env.n) + steps_to_complete[s, t]\n",
    "\n",
    "            # increment timestep and loop\n",
    "            t +=1\n"
   ]
  },
  {
   "cell_type": "code",
   "execution_count": null,
   "id": "673145b4",
   "metadata": {},
   "outputs": [],
   "source": [
    "if __name__ == \"__main__\":\n",
    "\n",
    "    #cProfile.run('main()')\n",
    "    main()\n"
   ]
  },
  {
   "cell_type": "code",
   "execution_count": null,
   "metadata": {},
   "outputs": [],
   "source": [
    "# save reward and actions\n",
    "np.save(f'n{n}t{num_of_tasks}_cum_rew_bc', steps_to_complete)\n",
    "np.save(f'n{n}t{num_of_tasks}_actions_bc', comm_rec_actions)"
   ]
  },
  {
   "cell_type": "code",
   "execution_count": null,
   "id": "a79aad28",
   "metadata": {},
   "outputs": [],
   "source": [
    "plt.style.use('ggplot')\n",
    "b = np.mean(steps_to_complete, axis=0)\n",
    "s_dev = np.std(steps_to_complete, axis=0)\n",
    "plt.xlabel('Number of Steps Played')\n",
    "plt.ylabel('Cumulative Average System Reward')\n",
    "plt.title(f'IAC on cooperative game; n={n}, tasks={num_of_tasks}')\n",
    "fig = plt.gcf()\n",
    "fig.set_size_inches(10.5, 10.5)\n",
    "plt.plot(b)"
   ]
  },
  {
   "cell_type": "code",
   "execution_count": null,
   "id": "a9e8ee39",
   "metadata": {},
   "outputs": [],
   "source": [
    "plt.xlabel('Number of Steps Played')\n",
    "plt.ylabel('Comm Bias')\n",
    "plt.title(f'Communication action for cooperative game, action_space=[{lower_bound},{upper_bound}]')\n",
    "fig = plt.gcf()\n",
    "fig.set_size_inches(10.5, 10.5)\n",
    "\n",
    "plt.plot(comm_rec_actions)"
   ]
  },
  {
   "cell_type": "code",
   "execution_count": null,
   "id": "5038c7e7",
   "metadata": {},
   "outputs": [],
   "source": [
    "# Get coalition structure\n",
    "converged_structure = np.zeros((num_of_tasks, env.n))\n",
    "task = 0\n",
    "for C in env.CS:\n",
    "    indices = [int(a)-1 for a in list(C)]\n",
    "    converged_structure[task, indices] = 1\n",
    "    task+=1\n",
    "\n",
    "print(converged_structure)\n",
    "np.save(f'n{n}t{num_of_tasks}_cstruct_cnf0.npy', converged_structure)"
   ]
  }
 ],
 "metadata": {
  "kernelspec": {
   "display_name": "Python 3 (ipykernel)",
   "language": "python",
   "name": "python3"
  },
  "language_info": {
   "codemirror_mode": {
    "name": "ipython",
    "version": 3
   },
   "file_extension": ".py",
   "mimetype": "text/x-python",
   "name": "python",
   "nbconvert_exporter": "python",
   "pygments_lexer": "ipython3",
   "version": "3.10.4"
  }
 },
 "nbformat": 4,
 "nbformat_minor": 5
}

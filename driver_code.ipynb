{
 "cells": [
  {
   "cell_type": "code",
   "execution_count": null,
   "id": "2f99acde",
   "metadata": {},
   "outputs": [],
   "source": [
    "from utils.CoopEnv import CoopEnv\n",
    "from utils.IACagent import Agent"
   ]
  },
  {
   "cell_type": "code",
   "execution_count": null,
   "id": "a4aa20a1",
   "metadata": {},
   "outputs": [],
   "source": [
    "import random\n",
    "import numpy as np\n",
    "import matplotlib.pyplot as plt"
   ]
  },
  {
   "cell_type": "code",
   "execution_count": null,
   "id": "759d86af",
   "metadata": {},
   "outputs": [],
   "source": [
    "n = 20\n",
    "num_of_tasks = 10\n",
    "cnf = 0\n",
    "env = CoopEnv(n=n, num_of_tasks=num_of_tasks, cnf=cnf)\n",
    "action_size = env.num_of_tasks"
   ]
  },
  {
   "cell_type": "code",
   "execution_count": null,
   "id": "8a624f28",
   "metadata": {},
   "outputs": [],
   "source": [
    "num_of_sims = 1\n",
    "step_limit = 10000\n",
    "steps_to_complete = np.zeros((num_of_sims, step_limit+1))"
   ]
  },
  {
   "cell_type": "code",
   "execution_count": null,
   "id": "99681c90",
   "metadata": {},
   "outputs": [],
   "source": [
    "def main():\n",
    "\n",
    "    for s in range(num_of_sims):\n",
    "\n",
    "        print(\"----------------------------------\")\n",
    "        print(f\"Starting training simulation {s}:\")\n",
    "        print(\"----------------------------------\")\n",
    "\n",
    "        # reinitialise agent list each sim\n",
    "        agentlist = {}\n",
    "        for agent in range(env.n):\n",
    "            agentlist[agent] = Agent(action_size) # instantiate an Agent() class for each player\n",
    "\n",
    "        t = 0\n",
    "        observations = env.reset(n=n, num_of_tasks=num_of_tasks, cnf=cnf)\n",
    "\n",
    "        while t < step_limit:\n",
    "            print(t, end='\\r')\n",
    "\n",
    "            actions = [agentlist[agent].choose_action(observations[agent]) for agent in range(env.n)]\n",
    "\n",
    "            next_observations, rewards, termination, info = env.step(actions)\n",
    "\n",
    "            for i in agentlist:\n",
    "                agent = agentlist[i]\n",
    "                agent.train(observations[i], actions[i], rewards[i], next_observations[i], termination)\n",
    "\n",
    "            observations = next_observations\n",
    "            steps_to_complete[s, t+1] = sum(rewards)/env.n + steps_to_complete[s, t]\n",
    "            t +=1\n",
    "\n",
    "    np.save(f'n{n}t{num_of_tasks}_cum_rew_cnf0.npy', steps_to_complete)\n"
   ]
  },
  {
   "cell_type": "code",
   "execution_count": null,
   "id": "673145b4",
   "metadata": {},
   "outputs": [],
   "source": [
    "if __name__ == \"__main__\":\n",
    "\n",
    "    #cProfile.run('main()')\n",
    "    main()\n"
   ]
  },
  {
   "cell_type": "code",
   "execution_count": null,
   "id": "a79aad28",
   "metadata": {},
   "outputs": [],
   "source": [
    "b = np.mean(steps_to_complete, axis=0)\n",
    "s_dev = np.std(steps_to_complete, axis=0)\n",
    "plt.xlabel('Number of Steps Played')\n",
    "plt.ylabel('Cumulative Average System Reward')\n",
    "plt.title(f'Training graph for IAC on cooperative game; n={n}, tasks={num_of_tasks}, cnf={cnf}')\n",
    "fig = plt.gcf()\n",
    "fig.set_size_inches(10.5, 10.5)\n",
    "plt.plot(b)"
   ]
  },
  {
   "cell_type": "code",
   "execution_count": null,
   "id": "5038c7e7",
   "metadata": {},
   "outputs": [],
   "source": [
    "print(f\"Converged VNM stable coalition structure is: {env.CS}\")"
   ]
  }
 ],
 "metadata": {
  "kernelspec": {
   "display_name": "Python 3 (ipykernel)",
   "language": "python",
   "name": "python3"
  },
  "language_info": {
   "codemirror_mode": {
    "name": "ipython",
    "version": 3
   },
   "file_extension": ".py",
   "mimetype": "text/x-python",
   "name": "python",
   "nbconvert_exporter": "python",
   "pygments_lexer": "ipython3",
   "version": "3.10.4"
  }
 },
 "nbformat": 4,
 "nbformat_minor": 5
}

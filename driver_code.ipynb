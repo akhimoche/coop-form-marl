{
 "cells": [
  {
   "cell_type": "code",
   "execution_count": null,
   "id": "2f99acde",
   "metadata": {},
   "outputs": [],
   "source": [
    "from utils.CoopEnv import CoopEnv\n",
    "from utils.IACagent import Agent"
   ]
  },
  {
   "cell_type": "code",
   "execution_count": null,
   "id": "a4aa20a1",
   "metadata": {},
   "outputs": [],
   "source": [
    "import random\n",
    "import numpy as np\n",
    "import matplotlib.pyplot as plt\n",
    "plt.style.use('ggplot')"
   ]
  },
  {
   "cell_type": "code",
   "execution_count": null,
   "id": "759d86af",
   "metadata": {},
   "outputs": [],
   "source": [
    "# Set constant hyperparameters\n",
    "n = 20\n",
    "num_of_tasks  = 10\n",
    "num_of_sims = 3\n",
    "step_limit = 12000"
   ]
  },
  {
   "cell_type": "code",
   "execution_count": null,
   "id": "8a624f28",
   "metadata": {},
   "outputs": [],
   "source": [
    "lower_bound = 0\n",
    "upper_bound = 2.00\n",
    "comm_array = np.arange(lower_bound, upper_bound+0.01, 0.01)\n",
    "\n",
    "comm_space = len(comm_array)"
   ]
  },
  {
   "cell_type": "code",
   "execution_count": null,
   "metadata": {},
   "outputs": [],
   "source": [
    "env = CoopEnv(n=n, num_of_tasks=num_of_tasks)"
   ]
  },
  {
   "cell_type": "code",
   "execution_count": null,
   "metadata": {},
   "outputs": [],
   "source": [
    "steps_to_complete = np.zeros((num_of_sims, step_limit+1))\n",
    "comm_rec_actions = np.zeros((step_limit, env.n))\n",
    "move_rec_actions = np.zeros((step_limit, env.n))\n",
    "rec_rewards = np.zeros((step_limit, env.n))"
   ]
  },
  {
   "cell_type": "code",
   "execution_count": null,
   "id": "99681c90",
   "metadata": {},
   "outputs": [],
   "source": [
    "def main():\n",
    "\n",
    "    for s in range(num_of_sims):\n",
    "\n",
    "        print(\"----------------------------------\")\n",
    "        print(f\"Starting training simulation {s}:\")\n",
    "        print(\"----------------------------------\")\n",
    "\n",
    "        # reinitialise agent list each sim\n",
    "        # reset the environment\n",
    "        agentlist = {i: Agent(comm_space, alr=3e-4, vlr=6e-4, clr=1e-4 ) for i in range(env.n)}\n",
    "        observations = env.reset(n=n, num_of_tasks =num_of_tasks)\n",
    "\n",
    "        # begin training loop\n",
    "\n",
    "        t = 0\n",
    "        while t < step_limit:\n",
    "            print(t, end='\\r')\n",
    "\n",
    "            # collect move action for each agent\n",
    "            move_action = np.array([agentlist[i].choose_action_move(observations[i]) for i in range(env.n)])\n",
    "\n",
    "            next_observations, context = env.step1(move_action)\n",
    "\n",
    "            comm_action = np.array([agentlist[i].choose_action_comm(context[i]) for i in range(env.n)])\n",
    "            comm_action = comm_array[comm_action]\n",
    "\n",
    "            rewards = env.step2(comm_action) # env.step\n",
    "\n",
    "            comm_rec_actions[t] = comm_action  # output from actor (comm head)\n",
    "            move_rec_actions[t] = move_action\n",
    "\n",
    "            for i in range(env.n): # train each agent\n",
    "                action = np.array([move_action[i], comm_action[i]])\n",
    "                singleton_val = env.singleton_vals[f'Player {i+1}']\n",
    "                agentlist[i].train(observations[i], action, rewards[i], next_observations[i], context[i], singleton_val)\n",
    "\n",
    "            # advance state\n",
    "            observations = next_observations\n",
    "            # record average system reward score\n",
    "            steps_to_complete[s, t+1] = sum(rewards)/env.n\n",
    "            rec_rewards[t, :] = rewards\n",
    "\n",
    "            # increment timestep and loop\n",
    "            t +=1\n"
   ]
  },
  {
   "cell_type": "code",
   "execution_count": null,
   "id": "673145b4",
   "metadata": {},
   "outputs": [],
   "source": [
    "if __name__ == \"__main__\":\n",
    "\n",
    "    #cProfile.run('main()')\n",
    "    main()\n"
   ]
  },
  {
   "cell_type": "code",
   "execution_count": null,
   "metadata": {},
   "outputs": [],
   "source": [
    "# save reward and actions\n",
    "converged_structure = np.zeros((num_of_tasks, env.n))\n",
    "task = 0\n",
    "for C in env.CS:\n",
    "    indices = [int(a)-1 for a in list(C)]\n",
    "    converged_structure[task, indices] = 1\n",
    "    task+=1\n",
    "\n",
    "np.save(f'n{n}t{num_of_tasks}_cum_rew_bc', steps_to_complete)\n",
    "np.save(f'n{n}t{num_of_tasks}_actions_bc', comm_rec_actions)\n",
    "np.save(f'n{n}t{num_of_tasks}_cstruct_cnf0.npy', converged_structure)"
   ]
  },
  {
   "cell_type": "code",
   "execution_count": null,
   "id": "a79aad28",
   "metadata": {},
   "outputs": [],
   "source": [
    "plt.style.use('ggplot')\n",
    "#b = np.mean(steps_to_complete, axis=0)\n",
    "b = steps_to_complete.flatten()[0:5000]\n",
    "s_dev = np.std(steps_to_complete, axis=0)\n",
    "\n",
    "def moving_average(arr, window_size):\n",
    "    moving_averages = []\n",
    "    for i in range(len(arr) - window_size + 1):\n",
    "        window = arr[i:i + window_size]\n",
    "        average = sum(window) / window_size\n",
    "        moving_averages.append(average)\n",
    "    return moving_averages\n",
    "\n",
    "plt.xlabel('Number of Steps Played')\n",
    "plt.ylabel('Cumulative Average System Reward')\n",
    "plt.title(f'IAC on cooperative game; n={n}, tasks={num_of_tasks}')\n",
    "fig = plt.gcf()\n",
    "fig.set_size_inches(10.5, 10.5)\n",
    "plt.plot(moving_average(b,20))"
   ]
  },
  {
   "cell_type": "code",
   "execution_count": null,
   "id": "a9e8ee39",
   "metadata": {},
   "outputs": [],
   "source": [
    "plt.xlabel('Number of Steps Played')\n",
    "plt.ylabel('Comm Bias')\n",
    "plt.title(f'Communication action for cooperative game, action_space=[{lower_bound},{upper_bound}]')\n",
    "fig = plt.gcf()\n",
    "fig.set_size_inches(10.5, 10.5)\n",
    "\n",
    "plt.plot(moving_average(comm_rec_actions,21))"
   ]
  },
  {
   "cell_type": "code",
   "execution_count": null,
   "metadata": {},
   "outputs": [],
   "source": [
    "print(env.CS)\n",
    "for j in range(env.n):\n",
    "    plt.plot(moving_average(rec_rewards[:,j], 20))\n",
    "\n",
    "fig = plt.gcf()\n",
    "fig.set_size_inches(10.5, 10.5)"
   ]
  },
  {
   "cell_type": "code",
   "execution_count": null,
   "metadata": {},
   "outputs": [],
   "source": [
    "# Execution Cell\n",
    "\n",
    "observations = env.reset(n=n, num_of_tasks =num_of_tasks)\n",
    "\n",
    "# begin training loop\n",
    "for i in range(1000):\n",
    "    # collect move action for each agent\n",
    "    move_action = np.array([agentlist[i].choose_action_move(observations[i]) for i in range(env.n)])\n",
    "\n",
    "    next_observations, context = env.step1(move_action)\n",
    "\n",
    "    comm_action = np.array([agentlist[i].choose_action_comm(context[i]) for i in range(env.n)])\n",
    "    comm_action = comm_array[comm_action]\n",
    "\n",
    "    rewards = env.step2(comm_action) # env.step\n",
    "    print(sum(rewards)/env.n)\n",
    "\n",
    "    # advance state\n",
    "    observations = next_observations"
   ]
  }
 ],
 "metadata": {
  "kernelspec": {
   "display_name": "Python 3 (ipykernel)",
   "language": "python",
   "name": "python3"
  },
  "language_info": {
   "codemirror_mode": {
    "name": "ipython",
    "version": 3
   },
   "file_extension": ".py",
   "mimetype": "text/x-python",
   "name": "python",
   "nbconvert_exporter": "python",
   "pygments_lexer": "ipython3",
   "version": "3.10.4"
  }
 },
 "nbformat": 4,
 "nbformat_minor": 5
}
